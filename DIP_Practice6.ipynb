{
  "nbformat": 4,
  "nbformat_minor": 0,
  "metadata": {
    "colab": {
      "provenance": [],
      "collapsed_sections": [],
      "mount_file_id": "1SwX6gb_j0b9WcJjM80Ax7mdcONYiHGOL",
      "authorship_tag": "ABX9TyPdqDIpybvxLfhEVdAxBDVU",
      "include_colab_link": true
    },
    "kernelspec": {
      "name": "python3",
      "display_name": "Python 3"
    },
    "language_info": {
      "name": "python"
    }
  },
  "cells": [
    {
      "cell_type": "markdown",
      "metadata": {
        "id": "view-in-github",
        "colab_type": "text"
      },
      "source": [
        "<a href=\"https://colab.research.google.com/github/imnadiarasheed/DIP/blob/main/DIP_Practice6.ipynb\" target=\"_parent\"><img src=\"https://colab.research.google.com/assets/colab-badge.svg\" alt=\"Open In Colab\"/></a>"
      ]
    },
    {
      "cell_type": "code",
      "source": [
        "import numpy as n \n",
        "import cv2 as cv2 \n",
        "from google.colab.patches import cv2_imshow"
      ],
      "metadata": {
        "id": "VL1bMTy0J7Rj"
      },
      "execution_count": 1,
      "outputs": []
    },
    {
      "cell_type": "code",
      "source": [
        "original=cv2.imread('drive/MyDrive/images/cca1.png',0) \n",
        "#original=cv2.imread('drive/MyDrive/images/shapes-01.jpg',0) \n",
        "cv2_imshow(original)"
      ],
      "metadata": {
        "id": "WESFnGikIGsT",
        "colab": {
          "base_uri": "https://localhost:8080/",
          "height": 232
        },
        "outputId": "58af05b3-7ca7-49bc-b2b6-6c6ea0b0bc77"
      },
      "execution_count": 2,
      "outputs": [
        {
          "output_type": "display_data",
          "data": {
            "text/plain": [
              "<PIL.Image.Image image mode=L size=218x215 at 0x7FA50ADEF9D0>"
            ],
            "image/png": "[encoded data removed]"
          },
          "metadata": {}
        }
      ]
    },
    {
      "cell_type": "code",
      "source": [
        "original = cv2.threshold(original, 127, 255, cv2.THRESH_BINARY)[1]\n",
        "#original = cv2.threshold(original, 220, 255, cv2.THRESH_BINARY_INV)[1]\n",
        "cv2_imshow(original)"
      ],
      "metadata": {
        "colab": {
          "base_uri": "https://localhost:8080/",
          "height": 232
        },
        "id": "MH2jlYq8IXCW",
        "outputId": "c34ab0dd-2e79-43fe-aeb3-caaa3cea7122"
      },
      "execution_count": 3,
      "outputs": [
        {
          "output_type": "display_data",
          "data": {
            "text/plain": [
              "<PIL.Image.Image image mode=L size=218x215 at 0x7FA50ADE8610>"
            ],
            "image/png": "[encoded data removed]"
          },
          "metadata": {}
        }
      ]
    },
    {
      "cell_type": "code",
      "source": [
        "'''original=n.array([[0, 0, 0, 0, 0, 0],\n",
        "                  [0, 0, 0, 0, 0, 255],\n",
        "                  [0, 0, 255, 0, 0, 0],\n",
        "                  [0, 255, 0, 0, 255, 255],\n",
        "                  [0, 0, 0, 0, 255, 0],\n",
        "                  [0, 0, 0, 0, 255, 0],\n",
        "                  [0, 0, 0, 0, 0, 255]])\n",
        "  \n",
        "original=n.array([[0, 0, 0, 0, 0, 0],\n",
        "                  [0, 0, 255, 255, 255, 0],\n",
        "                  [0, 255, 0, 255, 255, 0],\n",
        "                  [0, 0, 255, 255, 0, 255],\n",
        "                  [0, 0, 0, 0, 0, 0]])'''\n",
        "'''print(original), size=n.shape(original), print(original.shape), print(n.max(original)),\n",
        "count = n.count_nonzero(original >= 255), print(count)'''\n",
        "print(n.unique(original))\n",
        "\n",
        "number_list = n.array(original)\n",
        "(unique, counts) = n.unique(number_list, return_counts=True)\n",
        "frequencies = n.asarray((unique, counts)).T\n",
        "print(frequencies)"
      ],
      "metadata": {
        "colab": {
          "base_uri": "https://localhost:8080/"
        },
        "id": "vn2kBzYN-Sgj",
        "outputId": "fcb9dcb3-56f1-4869-d2e7-50cd681e2c7a"
      },
      "execution_count": 4,
      "outputs": [
        {
          "output_type": "stream",
          "name": "stdout",
          "text": [
            "[  0 255]\n",
            "[[    0 43086]\n",
            " [  255  3784]]\n"
          ]
        }
      ]
    },
    {
      "cell_type": "code",
      "source": [
        "def numberobjects(img):  \n",
        "  size=n.shape(img) \n",
        "  \n",
        "  named_1=n.zeros(size,dtype=int) \n",
        "  label=1; \n",
        "  for i in range(1,size[0]): \n",
        "    for j in range(1,size[1]): \n",
        "      if (img[i,j]==255): \n",
        "        upperlabel=named_1[i-1,j] \n",
        "        prevlabel=named_1[i,j-1] \n",
        "        thislabel=upperlabel \n",
        "        if(prevlabel!=0): \n",
        "          thislabel=prevlabel \n",
        "        if(thislabel==0): \n",
        "          thislabel=label \n",
        "          label=label+1 \n",
        "        named_1[i,j]=thislabel \n",
        "  return named_1"
      ],
      "metadata": {
        "id": "POUMCS7mcrNy"
      },
      "execution_count": 5,
      "outputs": []
    },
    {
      "cell_type": "code",
      "source": [
        "def listinlistcopy(lista,dstloc,srcloc): \n",
        "  while(lista[srcloc].__len__()>0): \n",
        "    lista[dstloc].append(lista[srcloc].pop()) \n",
        "  lista.__delitem__(srcloc) \n",
        "def findindex(lista,value): \n",
        "  r=-1 \n",
        "  for k in range(lista.__len__()): \n",
        "    if(lista[k].count(value)>0): \n",
        "      r=k \n",
        "      break \n",
        "  return r \n",
        "def ifexists(lista,value): \n",
        "  for k in range(lista.__len__()): \n",
        "    if(lista[k].count(value)>0): \n",
        "      return 1"
      ],
      "metadata": {
        "id": "jYAFe2MUMVGs"
      },
      "execution_count": 6,
      "outputs": []
    },
    {
      "cell_type": "code",
      "source": [
        "def colorobjects(img,list_objects): \n",
        "\n",
        "  size=n.shape(img) \n",
        "  newimg=n.ones((size),dtype=n.uint8)*255 \n",
        "  for i in range(size[0]): \n",
        "    for j in range(size[1]): \n",
        "      if(img[i,j]!=0): \n",
        "        res=findindex(list_objects,img[i,j]) \n",
        "        if(res!=-1): \n",
        "          newimg[i,j]=res*25\n",
        "  return newimg "
      ],
      "metadata": {
        "id": "y5i_avxoy1Rt"
      },
      "execution_count": 7,
      "outputs": []
    },
    {
      "cell_type": "code",
      "source": [
        "def secondpass(img): \n",
        "\n",
        "  list_objects=list([[0]]) \n",
        "  size=n.shape(img) \n",
        "\n",
        "  for i in range(1,size[0]): \n",
        "    for j in range(1,size[1]): \n",
        "      currvalue=img[i,j] \n",
        "      if (currvalue!=0): \n",
        "        uppervalue=img[i-1,j] \n",
        "        leftvalue=img[i,j-1] \n",
        "        k=findindex(list_objects,currvalue) \n",
        "        if(k==-1): \n",
        "          list_objects.append([currvalue]) \n",
        "        elif(uppervalue!=0 and leftvalue!=0 and uppervalue!=leftvalue): \n",
        "          upperindex=findindex(list_objects,uppervalue) \n",
        "          leftindex=findindex(list_objects,leftvalue) \n",
        "          if(upperindex!=leftindex): \n",
        "            listinlistcopy(list_objects,upperindex,leftindex) \n",
        "  return list_objects"
      ],
      "metadata": {
        "id": "IaLyUvUFJ4wy"
      },
      "execution_count": 8,
      "outputs": []
    },
    {
      "cell_type": "code",
      "source": [
        "afterPass1=numberobjects(original) \n",
        "#print(afterPass1.shape), print(n.max(afterPass1))\n",
        "#print(afterPass1)\n",
        "listobjects=secondpass(afterPass1) \n",
        "print(listobjects)\n",
        "print('number of objects') \n",
        "print(len(listobjects)-1) \n",
        "new_image=colorobjects(afterPass1,listobjects)\n",
        "cv2_imshow(new_image), print(new_image) \n",
        "'''cv2.imwrite('drive/MyDrive/images/lcca1.png', new_image)\n",
        "print('printing saved image')\n",
        "new1=cv2.imread('drive/MyDrive/images/lcca1.png',0)\n",
        "print(new1)'''"
      ],
      "metadata": {
        "colab": {
          "base_uri": "https://localhost:8080/",
          "height": 461
        },
        "id": "0xS-rvKcJdvR",
        "outputId": "7e16bb49-2736-4a44-99b4-3d2b385e6238"
      },
      "execution_count": 10,
      "outputs": [
        {
          "output_type": "stream",
          "name": "stdout",
          "text": [
            "[[0], [4, 5, 6, 9, 3, 2, 1, 15, 17, 19, 21, 23, 25, 26], [8, 10, 12, 13, 14, 16, 18, 20, 22, 24, 11, 7, 27, 28, 29, 30, 31, 32, 33, 34, 35], [40, 41, 42, 45, 49, 54, 58, 56, 53, 51, 59, 60, 61, 62, 66], [43, 44, 46, 39, 38, 37, 36, 47, 48, 50, 52, 55, 57], [63, 67, 72, 81, 83, 85], [65, 69, 71, 73, 74, 75, 76, 77, 78, 79, 70, 68, 64, 80, 82, 84, 86, 87, 88, 89, 90, 91, 92], [93, 94, 95, 107, 109, 111], [100, 101, 99, 102, 103, 104, 98, 97, 96, 105, 106, 108, 110, 112, 113, 114]]\n",
            "number of objects\n",
            "8\n"
          ]
        },
        {
          "output_type": "display_data",
          "data": {
            "text/plain": [
              "<PIL.Image.Image image mode=L size=218x215 at 0x7FA50AD28250>"
            ],
            "image/png": "[encoded data removed]"
          },
          "metadata": {}
        },
        {
          "output_type": "stream",
          "name": "stdout",
          "text": [
            "[[255 255 255 ... 255 255 255]\n",
            " [255 255 255 ... 255 255 255]\n",
            " [255 255 255 ... 255 255 255]\n",
            " ...\n",
            " [255 255 255 ... 255 255 255]\n",
            " [255 255 255 ... 255 255 255]\n",
            " [255 255 255 ... 255 255 255]]\n"
          ]
        },
        {
          "output_type": "execute_result",
          "data": {
            "text/plain": [
              "\"cv2.imwrite('drive/MyDrive/images/lcca1.png', new_image)\\nprint('printing saved image')\\nnew1=cv2.imread('drive/MyDrive/images/lcca1.png',0)\\nprint(new1)\""
            ],
            "application/vnd.google.colaboratory.intrinsic+json": {
              "type": "string"
            }
          },
          "metadata": {},
          "execution_count": 10
        }
      ]
    },
    {
      "cell_type": "code",
      "source": [
        "number_list = n.array(new_image)\n",
        "\n",
        "(unique, counts) = n.unique(number_list, return_counts=True)\n",
        "frequencies = n.asarray((unique, counts)).T\n",
        "print(frequencies)"
      ],
      "metadata": {
        "colab": {
          "base_uri": "https://localhost:8080/"
        },
        "id": "FC02lYi22JIH",
        "outputId": "58b7a8df-59b0-4240-86ae-a8017b524841"
      },
      "execution_count": 12,
      "outputs": [
        {
          "output_type": "stream",
          "name": "stdout",
          "text": [
            "[[   25   492]\n",
            " [   50   478]\n",
            " [   75   486]\n",
            " [  100   486]\n",
            " [  125   470]\n",
            " [  150   451]\n",
            " [  175   470]\n",
            " [  200   451]\n",
            " [  255 43086]]\n"
          ]
        }
      ]
    }
  ]
}